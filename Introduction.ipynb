{
 "cells": [
  {
   "attachments": {},
   "cell_type": "markdown",
   "metadata": {},
   "source": [
    "# Introduction \n",
    "\n",
    "## Problem and Background \n",
    "There exist a huge plastic waste pile that grows every day, and primarily consists of single-use plastics. One of the main contributors to this problem is the food sector due to grocery packaging. Therefore, there is need for circular grocery shopping with recycable packaging in grocery stores.\n",
    "\n",
    "Jarly, a circular, packaging-free grocery store is exploring the opportunity to open a venture in Manhatten, New York. Manhatten is the urban core of the New York metropolitan area, and the most densely populated of the five boroughs of New York City. It has been described as the cultural, financial, media and entertainment capital of the world. Outdoor dining used to be in the culture of the city, but COVID_19 has changed that. People tend to do more home-cooking nowadays and seek high-quality food which does not do harm to the environment. I will therefore provide an analytical view that will support decision making for the optimal supermarket location, considering the viable options discovered, and based on specific data and criteria discussed below.  \n"
   ]
  },
  {
   "cell_type": "markdown",
   "metadata": {},
   "source": [
    "## Data section \n",
    "\n",
    "\n",
    "\n",
    "**1. New York City:**\n",
    "Neighborhood has a total of 5 boroughs and 306 neighborhoods. In order to segement the neighborhoods and explore them, we will essentially need a dataset that contains the 5 boroughs and the neighborhoods that exist in each borough as well as the the latitude and logitude coordinates of each neighborhood. \n",
    "This dataset exists for free on the web. Link to the dataset is: https://geo.nyu.edu/catalog/nyu_2451_34572\n",
    "The data used for acquisition and preprocessing in this project will be open public data available from: \n",
    "\n",
    "**2. Supermarkets & Farmers Markets**\n",
    "Foursquare API, which allows application developers to interact with the Foursquare Platform, will be used for finding supermarkets and farmers markets. Foursqueare is a social location service that allows users to explore the world around them. The API itself is a RESTful set of addresses to which you can send request and get responses. The API allows querying places and users, exploring popular places and checking out reviews and photographs of these places. New York City geographical coordinates data will be used as input for the Foursquare API, that will be leveraged to provision information on venues for each neighborhood in Manhatten.  \n",
    "\n",
    "To gather information of farmers markets and add this to the supermarket data frame, we will use:https://data.cityofnewyork.us/dataset/DOHMH-Farmers-Markets-and-Food-Boxes/8vwk-6iz2 and https://www.grownyc.org/greenmarketco/foodbox. A farmers' market is often defined as a public site used by two or more local or regional producers for the direct sale of farm products to consumers. In addition to fresh fruits and vegetables, markets may sell dairy products, fish, meat, baked goods, and other minimally processed foods. \n",
    "\n",
    "After obtaining the neighborhoods data of New york City and the the supermarkets and farmers markets in each neighborhood using Foursquare API, data science techniques can be applied. One hot encoding will be used on the obtained dataset to find the 10 most common supermarkets in each neighborhood. The returned venues, are than clustered using k-means clustering. The optimal number of clusters can be obtained using silhouette score. The obtained clusters can be analyzed to find the major type of supermarket / food market in each cluster. Folium visualization library can be used to visualize the clusters superimposed on the map of New York City.\n",
    "\n",
    "\n",
    "**3. Population**\n",
    "\n",
    "For extra analysis on the population/geographics, the data from the following wikipedia can be used:\n",
    "\n",
    "* New York Population: https://en.wikipedia.org/wiki/New_York_City\n",
    "* New York City Demographics: https://en.wikipedia.org/wiki/Economy_of_New_York_City, https://en.wikipedia.org/wiki/Portal:New_York_City\n",
    "\n",
    "\n",
    "\n",
    "\n"
   ]
  },
  {
   "cell_type": "code",
   "execution_count": null,
   "metadata": {
    "scrolled": true
   },
   "outputs": [],
   "source": []
  },
  {
   "cell_type": "code",
   "execution_count": null,
   "metadata": {
    "scrolled": true
   },
   "outputs": [],
   "source": []
  },
  {
   "cell_type": "code",
   "execution_count": null,
   "metadata": {},
   "outputs": [],
   "source": []
  },
  {
   "cell_type": "code",
   "execution_count": null,
   "metadata": {},
   "outputs": [],
   "source": []
  }
 ],
 "metadata": {
  "kernelspec": {
   "display_name": "Python 3",
   "language": "python",
   "name": "python3"
  },
  "language_info": {
   "codemirror_mode": {
    "name": "ipython",
    "version": 3
   },
   "file_extension": ".py",
   "mimetype": "text/x-python",
   "name": "python",
   "nbconvert_exporter": "python",
   "pygments_lexer": "ipython3",
   "version": "3.7.1"
  }
 },
 "nbformat": 4,
 "nbformat_minor": 2
}
